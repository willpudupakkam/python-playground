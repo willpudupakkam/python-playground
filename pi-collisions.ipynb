{
 "cells": [
  {
   "cell_type": "code",
   "execution_count": 15,
   "metadata": {},
   "outputs": [
    {
     "name": "stdout",
     "output_type": "stream",
     "text": [
      "3141592 collisions with n = 6\n"
     ]
    }
   ],
   "source": [
    "import math\n",
    "\n",
    "def pi_collisions(n):\n",
    "\n",
    "    # Masses of the blocks\n",
    "    m1 = 1\n",
    "    m2 = 10**(2 * n)  \n",
    "\n",
    "    # Initial velocities\n",
    "    v1 = 0  # Smaller block initially at rest\n",
    "    v2 = -1  # Larger block moving towards the smaller block\n",
    "\n",
    "    collisions = 0\n",
    "\n",
    "    # Elastic collision calculations until the conditions are met\n",
    "    while True:\n",
    "        new_v1 = (v1 * (m1 - m2) + 2 * m2 * v2) / (m1 + m2)\n",
    "        new_v2 = (v2 * (m2 - m1) + 2 * m1 * v1) / (m1 + m2)\n",
    "\n",
    "        v1, v2 = new_v1, new_v2\n",
    "        collisions += 1\n",
    "\n",
    "        if v1 < 0:\n",
    "            v1 = -v1 \n",
    "            collisions += 1  \n",
    "\n",
    "        if v1 >= 0 and v2 >= 0 and v2 >= v1:\n",
    "            break\n",
    "\n",
    "    return collisions\n",
    "\n",
    "n = 6\n",
    "print(\"{} collisions with n = {}\".format(pi_collisions(n), n))"
   ]
  }
 ],
 "metadata": {
  "kernelspec": {
   "display_name": "base",
   "language": "python",
   "name": "python3"
  },
  "language_info": {
   "codemirror_mode": {
    "name": "ipython",
    "version": 3
   },
   "file_extension": ".py",
   "mimetype": "text/x-python",
   "name": "python",
   "nbconvert_exporter": "python",
   "pygments_lexer": "ipython3",
   "version": "3.11.4"
  }
 },
 "nbformat": 4,
 "nbformat_minor": 2
}
